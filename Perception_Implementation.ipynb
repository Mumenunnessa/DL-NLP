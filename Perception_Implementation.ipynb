{
  "nbformat": 4,
  "nbformat_minor": 0,
  "metadata": {
    "colab": {
      "name": "Perception Implementation.ipynb",
      "provenance": [],
      "authorship_tag": "ABX9TyPhPxNFFUJ5T0OrBrZe0L7F",
      "include_colab_link": true
    },
    "kernelspec": {
      "name": "python3",
      "display_name": "Python 3"
    }
  },
  "cells": [
    {
      "cell_type": "markdown",
      "metadata": {
        "id": "view-in-github",
        "colab_type": "text"
      },
      "source": [
        "<a href=\"https://colab.research.google.com/github/Mumenunnessa/DL-NLP/blob/master/Perception_Implementation.ipynb\" target=\"_parent\"><img src=\"https://colab.research.google.com/assets/colab-badge.svg\" alt=\"Open In Colab\"/></a>"
      ]
    },
    {
      "cell_type": "code",
      "metadata": {
        "id": "-CG5zGRDd-0A",
        "colab_type": "code",
        "colab": {
          "base_uri": "https://localhost:8080/",
          "height": 72
        },
        "outputId": "2364c803-769f-4cae-cbd2-9dacbd5ac502"
      },
      "source": [
        "import math\n",
        "\n",
        "b = 0.1\n",
        "w = [0.5,0.5,0.5,0.5]\n",
        "lr = 0.01\n",
        "\n",
        "x = [1,2,3]\n",
        "y = 1.5\n",
        "\n",
        "def sum():\n",
        "    s =  x[0] * w[0] + x[1] * w[1] + x[2] * w[2] + b * w[3]\n",
        "    return s\n",
        "\n",
        "def activation():\n",
        "    s =  sum()\n",
        "    soft = 1 / (1 + math.exp(-s))\n",
        "    return soft \n",
        "    \n",
        "\n",
        "a = activation()\n",
        "error = y - a\n",
        "\n",
        "print(\"Error: \",error)\n",
        "print(\"activation:\",a)\n",
        "\n",
        "w[0] = w[0] + error * lr * x[0]\n",
        "w[1] = w[1] + error * lr * x[1]\n",
        "w[2] = w[2] + error * lr * x[2]\n",
        "w[3] = w[3] + error * lr * b\n",
        "\n",
        "print(w[0],w[1],w[2],w[3])"
      ],
      "execution_count": 1,
      "outputs": [
        {
          "output_type": "stream",
          "text": [
            "Error:  0.5452174734832875\n",
            "activation: 0.9547825265167125\n",
            "0.5054521747348328 0.5109043494696658 0.5163565242044986 0.5005452174734832\n"
          ],
          "name": "stdout"
        }
      ]
    }
  ]
}